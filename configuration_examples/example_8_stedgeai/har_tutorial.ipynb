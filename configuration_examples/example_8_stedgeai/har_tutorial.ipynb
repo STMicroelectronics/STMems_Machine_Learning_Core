{
 "cells": [
  {
   "cell_type": "code",
   "execution_count": null,
   "metadata": {},
   "outputs": [],
   "source": [
    "from typing import Optional, List\n",
    "import pathlib\n",
    "import random\n",
    "import re\n",
    "\n",
    "import numpy as np\n",
    "import pandas as pd\n",
    "import seaborn as sns\n",
    "import matplotlib.pyplot as plt\n",
    "\n",
    "from scipy.io import arff\n",
    "from sklearn.model_selection import train_test_split\n",
    "from sklearn.tree import DecisionTreeClassifier, export_text\n",
    "from sklearn.metrics import accuracy_score, confusion_matrix"
   ]
  },
  {
   "cell_type": "code",
   "execution_count": null,
   "metadata": {},
   "outputs": [],
   "source": [
    "DATA_PATH = pathlib.Path(\"data\")\n",
    "OUTPUT_PATH = pathlib.Path(\"output\")"
   ]
  },
  {
   "cell_type": "code",
   "execution_count": null,
   "metadata": {},
   "outputs": [],
   "source": [
    "SEED = 42\n",
    "random.seed(SEED)\n",
    "np.random.seed(SEED)"
   ]
  },
  {
   "cell_type": "code",
   "execution_count": null,
   "metadata": {},
   "outputs": [],
   "source": [
    "def plot_confusion_matrix(\n",
    "    y_test: np.ndarray,\n",
    "    y_pred: np.ndarray,\n",
    "    labels: List[str],\n",
    "    title: Optional[str] = None,\n",
    ") -> None:\n",
    "    \"\"\"Plot confusion matrix with given class names.\n",
    "\n",
    "    Args:\n",
    "        y_test (np.ndarray): True labels.\n",
    "        y_pred (np.ndarray): Predicted labels.\n",
    "        labels (List[str]): List of class names.\n",
    "        title (str | None): Plot figure title. Defaults to None.\n",
    "    \"\"\"\n",
    "    _, ax = plt.subplots(1, 1, figsize=(6, 5))\n",
    "    if title is None:\n",
    "        title = \"Confusion Matrix\"\n",
    "    ax.set_title(title)\n",
    "    cm = confusion_matrix(y_test, y_pred, normalize=\"true\")\n",
    "    sns.heatmap(\n",
    "        pd.DataFrame(cm, labels, labels),\n",
    "        ax=ax, annot=True, annot_kws={\"size\": 12}, fmt=\".2f\"\n",
    "    )\n",
    "    plt.show()\n",
    "\n",
    "\n",
    "def convert_sklearn_to_weka(clf: DecisionTreeClassifier) -> str:\n",
    "    \"\"\"Convert Scikit-learn decision tree classifier to Weka textual format.\n",
    "\n",
    "    Args:\n",
    "        clf (DecisionTreeClassifier): Scikit-learn decision tree classifier.\n",
    "\n",
    "    Returns:\n",
    "        str: Decision tree in Weka textual format.\n",
    "    \"\"\"\n",
    "    dt = re.sub(\n",
    "        r\"\\|--- \", r\"\",\n",
    "        export_text(clf, feature_names=clf.feature_names_in_)\n",
    "    ).splitlines()\n",
    "    new_dt = []\n",
    "    line_idx = 1\n",
    "    while line_idx < len(dt):\n",
    "        match = re.search(r\"class: (\\w+)$\", dt[line_idx])\n",
    "        if match is not None:\n",
    "            new_dt.append(f\"{dt[line_idx - 1]}: {match.group(1)}\")\n",
    "            line_idx += 2\n",
    "        else:\n",
    "            new_dt.append(dt[line_idx - 1])\n",
    "            line_idx += 1\n",
    "    return \"\\n\".join(new_dt) + \"\\n\""
   ]
  },
  {
   "cell_type": "code",
   "execution_count": null,
   "metadata": {},
   "outputs": [],
   "source": [
    "# Read labels and features from ARFF file\n",
    "arff_data, arff_meta = arff.loadarff(OUTPUT_PATH / \"har_features.arff\")\n",
    "arff_df = pd.DataFrame(arff_data)\n",
    "X = arff_df.drop(\"class\", axis=1)\n",
    "y = np.array([label.decode() for label in arff_df[\"class\"]])\n",
    "LABELS = list(arff_meta[\"class\"][1])\n",
    "\n",
    "# Split dataset into training set and test set\n",
    "X_train, X_test, y_train, y_test = train_test_split(\n",
    "    X, y, stratify=y, test_size=0.3)\n",
    "\n",
    "print(f\"Training set: {len(y_train):>4} samples\")\n",
    "print(f\"Testing set:  {len(y_test):>4} samples\")"
   ]
  },
  {
   "cell_type": "code",
   "execution_count": null,
   "metadata": {},
   "outputs": [],
   "source": [
    "# Train decision tree classifer\n",
    "dt_model = DecisionTreeClassifier(\n",
    "    max_depth=128,\n",
    "    criterion=\"entropy\",\n",
    "    min_impurity_decrease=1e-3,\n",
    "    ccp_alpha=1e-2,\n",
    "    class_weight=\"balanced\",\n",
    ").fit(X_train, y_train)\n",
    "\n",
    "# Make predictions on the testing set\n",
    "y_pred = dt_model.predict(X_test)\n",
    "\n",
    "# Plot results\n",
    "print(f\"Prediction accuracy: {accuracy_score(y_test, y_pred) * 100:.02f}%\")\n",
    "plot_confusion_matrix(y_test, y_pred, LABELS)"
   ]
  },
  {
   "cell_type": "code",
   "execution_count": null,
   "metadata": {},
   "outputs": [],
   "source": [
    "# Export scikit-learn model to Weka format\n",
    "with open(OUTPUT_PATH / \"har_dectree.txt\", \"w\") as f:\n",
    "    weka_str = convert_sklearn_to_weka(dt_model)\n",
    "    f.write(weka_str)\n",
    "    print(weka_str, end=\"\")"
   ]
  }
 ],
 "metadata": {
  "kernelspec": {
   "display_name": "Python 3",
   "language": "python",
   "name": "python3"
  },
  "language_info": {
   "codemirror_mode": {
    "name": "ipython",
    "version": 3
   },
   "file_extension": ".py",
   "mimetype": "text/x-python",
   "name": "python",
   "nbconvert_exporter": "python",
   "pygments_lexer": "ipython3",
   "version": "3.9.13"
  },
  "orig_nbformat": 4
 },
 "nbformat": 4,
 "nbformat_minor": 2
}
