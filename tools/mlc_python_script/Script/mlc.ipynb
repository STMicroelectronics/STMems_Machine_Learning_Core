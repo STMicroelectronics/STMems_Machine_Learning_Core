{
 "cells": [
  {
   "cell_type": "markdown",
   "metadata": {},
   "source": [
    "# Script version 3.0.0 for Machine Learning Core (MLC)"
   ]
  },
  {
   "cell_type": "markdown",
   "metadata": {},
   "source": [
    "## General settings"
   ]
  },
  {
   "cell_type": "code",
   "execution_count": null,
   "metadata": {},
   "outputs": [],
   "source": [
    "import datetime\n",
    "import logging\n",
    "import os\n",
    "\n",
    "from mlc_configurator import (\n",
    "    MLCFilter,\n",
    "    MLCFeature,\n",
    "    arff_generator,\n",
    "    ucf_generator,\n",
    "    h_generator,\n",
    "    get_devices,\n",
    "    get_mlc_odr,\n",
    "    get_mlc_input_type,\n",
    "    get_mlc_inputs,\n",
    "    get_accelerometer_odr,\n",
    "    get_accelerometer_fs,\n",
    "    get_gyroscope_odr,\n",
    "    get_gyroscope_fs,\n",
    "    get_filter_names,\n",
    "    get_feature_names,\n",
    ")\n",
    "from decision_tree_generator import generate_decision_tree, generate_arff_subset\n",
    "from mlc_test import test_arff_on_decisiontree\n",
    "from mlc_script_log import Logger"
   ]
  },
  {
   "cell_type": "code",
   "execution_count": 2,
   "metadata": {},
   "outputs": [],
   "source": [
    "current_directory = os.path.join(\n",
    "    os.getcwd(),\n",
    "    datetime.datetime.now().strftime(\"%Y-%m-%d_%H-%M-%S\")\n",
    ")\n",
    "os.makedirs(current_directory)\n",
    "logging.info(\"Current directory: \" + current_directory)\n",
    "logger = Logger(current_directory, \"\")\n",
    "\n",
    "arff_filename = os.path.join(current_directory, \"features.arff\")\n",
    "ucf_filename = os.path.join(current_directory, \"mlc.ucf\")\n",
    "h_filename = os.path.join(current_directory, \"mlc.h\")"
   ]
  },
  {
   "cell_type": "markdown",
   "metadata": {},
   "source": [
    "## Step 1: Load log files, label data, define decision tree results\n",
    "In this step data are loaded and results are assigned. \n",
    "Decision tree results can be configured by associating result names to result values."
   ]
  },
  {
   "cell_type": "code",
   "execution_count": null,
   "metadata": {},
   "outputs": [],
   "source": [
    "result_names = []  # leave empty here\n",
    "result_values = []  # leave empty here\n",
    "datalog_results = []  # leave empty here\n",
    "\n",
    "# Load class names (folder names) from Logs folder\n",
    "log_dirs = os.listdir(\"../Logs/\")\n",
    "print(\"available classes = \", log_dirs)\n",
    "\n",
    "# For each class (folder), load all data (files in the folder)\n",
    "datalogs = []\n",
    "datalogs_split_by_class = []\n",
    "for class_name in log_dirs:\n",
    "    datalogs_i = os.listdir(\"../Logs/\" + class_name + \"/\")\n",
    "    print(class_name, \" --> data logs: \", datalogs_i)\n",
    "    datalogs_split_by_class.append(datalogs_i)\n",
    "    for datalog_i in datalogs_i:\n",
    "        datalogs.append(\"../Logs/\" + class_name + \"/\" + datalog_i)\n",
    "        datalog_results.append(class_name)\n",
    "print(\"All data logs: \", datalogs)\n",
    "\n",
    "# NOTE: To take advantage of the metaclassifier block, we suggest class values\n",
    "# to be in separate groups and also try to avoid 0, it as also corresponds to\n",
    "# MLCX_SRC register unitialized default result value.\n",
    "# \n",
    "# The metaclassifier group values ranges are:\n",
    "# - group1: [0..3]\n",
    "# - group2: [4..7]\n",
    "# - group3: [8..11]\n",
    "# - group4: [12..15]\n",
    "\n",
    "# Assign results and values for decision tree 1:\n",
    "result_names.append([\"still\", \"walk\", \"fastwalk\"])\n",
    "result_values.append([1, 4, 8])\n",
    "# Assign results and values for decision tree 2:\n",
    "result_names.append([])\n",
    "result_values.append([])\n",
    "# Assign results and values for decision tree 3:\n",
    "result_names.append([])\n",
    "result_values.append([])\n",
    "# Assign results and values for decision tree 4:\n",
    "result_names.append([])\n",
    "result_values.append([])\n",
    "# Assign results and values for decision tree 5:\n",
    "result_names.append([])\n",
    "result_values.append([])\n",
    "# Assign results and values for decision tree 6:\n",
    "result_names.append([])\n",
    "result_values.append([])\n",
    "# Assign results and values for decision tree 7:\n",
    "result_names.append([])\n",
    "result_values.append([])\n",
    "# Assign results and values for decision tree 8:\n",
    "result_names.append([])\n",
    "result_values.append([])\n",
    "\n",
    "dectree_filenames = []\n",
    "for i in range(0, 8):\n",
    "    if result_names[i] == []:\n",
    "        break\n",
    "    else:\n",
    "        dectree_filenames.append(\n",
    "            os.path.join(current_directory, f\"dectree{i+1}.txt\"))\n",
    "\n",
    "n_decision_trees = i\n",
    "logging.info(\"n_decision_trees = %d\" % (n_decision_trees))"
   ]
  },
  {
   "cell_type": "markdown",
   "metadata": {},
   "source": [
    "## Step 2: Generate ARFF files\n",
    "ARFF files are CSV files where the first n lines declare data types of CSV columns.\n",
    "By editing lines below, we decide MLC configuration in terms of:\n",
    "* filters\n",
    "* features\n",
    "All the features are computed within a defined time window ('window_length').\n",
    "Other device settings like MLC data rate, sensor data rate and full scale are defined here.\n",
    "The module 'mlc_configurator.py' is used for this step."
   ]
  },
  {
   "cell_type": "code",
   "execution_count": null,
   "metadata": {},
   "outputs": [],
   "source": [
    "# device settings\n",
    "device_name = \"LSM6DSOX\"                 # list of supported devices available with get_devices()\n",
    "mlc_odr = \"26 Hz\"                        # list of allowed values available with get_mlc_odr(device_name)\n",
    "input_type = \"accelerometer+gyroscope\"   # list of allowed values available with get_mlc_input_type(device_name)\n",
    "accelerometer_fs = \"2 g\"                 # list of allowed values available with get_accelerometer_fs(device_name)\n",
    "accelerometer_odr = \"26 Hz\"              # list of allowed values available with get_accelerometer_odr(device_name)\n",
    "gyroscope_fs = \"2000 dps\"                # list of allowed values available with get_gyroscope_fs(device_name)\n",
    "gyroscope_odr = \"26 Hz\"                  # list of allowed values available with get_gyroscope_odr(device_name)            \n",
    "window_length = 52                       # Window length (supported values: from 1 to 255)\n",
    "\n",
    "# filters configuration\n",
    "# the list of available filters can be obtained with get_filter_names(input_type)\n",
    "filters_list = [\n",
    "    MLCFilter(filter_id=\"filter_1\", name=\"HP_Acc_XYZ\"),\n",
    "    MLCFilter(filter_id=\"filter_2\", name=\"BP_Acc_XYZ\",   coef_a2=-0.5, coef_a3=0.5,  coef_gain=1.0),\n",
    "    MLCFilter(filter_id=\"filter_3\", name=\"IIR1_Acc_V\", coef_b1=1.0,  coef_b2=0.25, coef_a2=0.75),\n",
    "    MLCFilter(filter_id=\"filter_4\", name=\"IIR2_Acc_V2\", coef_b1=0.59, coef_b2=1.19, coef_b3=0.59, coef_a2=-1.01, coef_a3=0.36),\n",
    "]\n",
    "\n",
    "# features configuration\n",
    "# full list of available features can be obtained with get_feature_names(device_name)\n",
    "# full list of available inputs can be obtained with get_mlc_inputs(input_type)\n",
    "features_list = [\n",
    "    MLCFeature(name=\"MEAN\",                   input=\"Acc_X\"),\n",
    "    MLCFeature(name=\"VARIANCE\",               input=\"Acc_Y\"),\n",
    "    MLCFeature(name=\"ENERGY\",                 input=\"Acc_Z\"),\n",
    "    MLCFeature(name=\"MINIMUM\",                input=\"Acc_V\"),\n",
    "    MLCFeature(name=\"MAXIMUM\",                input=\"Acc_V2\"),\n",
    "    MLCFeature(name=\"PEAK_TO_PEAK\",           input=\"Acc_X\"),\n",
    "    MLCFeature(name=\"ZERO_CROSSING\",          input=\"Acc_Y\",  threshold=0.5),\n",
    "    MLCFeature(name=\"POSITIVE_ZERO_CROSSING\", input=\"Acc_Z\",  threshold=0.5),\n",
    "    MLCFeature(name=\"NEGATIVE_ZERO_CROSSING\", input=\"Acc_V\",  threshold=0.5),\n",
    "    MLCFeature(name=\"PEAK_DETECTOR\",          input=\"Acc_V2\", threshold=0.5),\n",
    "    MLCFeature(name=\"POSITIVE_PEAK_DETECTOR\", input=\"Acc_X\",  threshold=0.5),\n",
    "    MLCFeature(name=\"NEGATIVE_PEAK_DETECTOR\", input=\"Acc_Y\",  threshold=0.5),\n",
    "    # Some examples of features computed on filtered inputs:\n",
    "    MLCFeature(name=\"MEAN\",                   input=\"Acc_X_filter_1\"),\n",
    "    MLCFeature(name=\"VARIANCE\",               input=\"Acc_Y_filter_2\"),\n",
    "    MLCFeature(name=\"ENERGY\",                 input=\"Acc_Z_filter_2\"),\n",
    "    MLCFeature(name=\"MINIMUM\",                input=\"Acc_V_filter_3\"),\n",
    "    MLCFeature(name=\"MAXIMUM\",                input=\"Acc_V2_filter_4\"),\n",
    "]\n",
    "\n",
    "arff_generator(\n",
    "    device_name,\n",
    "    datalogs,\n",
    "    datalog_results,\n",
    "    mlc_odr,\n",
    "    input_type,\n",
    "    accelerometer_fs,\n",
    "    accelerometer_odr,\n",
    "    gyroscope_fs,\n",
    "    gyroscope_odr,\n",
    "    n_decision_trees,\n",
    "    window_length,\n",
    "    filters_list,\n",
    "    features_list,\n",
    "    arff_filename,\n",
    "    current_directory,\n",
    ")"
   ]
  },
  {
   "cell_type": "markdown",
   "metadata": {},
   "source": [
    "## Step 3: Decision Tree generation\n",
    "The module 'decision_tree_generator.py' is used to generate decision trees through sklearn. \n",
    "\n",
    "If you have generated the decision tree with external tools, you can skip this section and manually copy the decision tree files in the current directory using: \n",
    "* from shutil import copyfile\n",
    "* source_0 = \"PathToYourDecisionTreeFile\"\n",
    "* copyfile(source_0, dectree_filenames[0])"
   ]
  },
  {
   "cell_type": "code",
   "execution_count": null,
   "metadata": {},
   "outputs": [],
   "source": [
    "if (n_decision_trees == 1):\n",
    "    dectree_accuracy, dectree_nodes = generate_decision_tree(\n",
    "        arff_filename,\n",
    "        dectree_filenames[0],\n",
    "    )\n",
    "else:\n",
    "    for i in range(n_decision_trees) :\n",
    "        arff_filename_i = f\"{arff_filename}{i+1}\"\n",
    "        generate_arff_subset(\n",
    "            arff_filename,\n",
    "            arff_filename_i,\n",
    "            result_names[i]\n",
    "        )\n",
    "        logging.info(f\"\\n# Decision Tree {i+1}:\")\n",
    "        dectree_accuracy, dectree_nodes = generate_decision_tree(\n",
    "            arff_filename_i,\n",
    "            dectree_filenames[i],\n",
    "        )\n"
   ]
  },
  {
   "cell_type": "markdown",
   "metadata": {},
   "source": [
    "## Step 4: Generation of .ucf file\n",
    "Settings and files from 'Step 2' and 'Step 3' are used in 'Step 4' to generate the MLC configuration in a .ucf file (a text file containing a sequence of register addresses and corresponding values). \n",
    "Meta classifiers, which are filters on the outputs of the decision trees, can be configured here. \n",
    "The module 'mlc_configurator.py' is used for this step."
   ]
  },
  {
   "cell_type": "code",
   "execution_count": null,
   "metadata": {},
   "outputs": [],
   "source": [
    "# Meta-classifiers\n",
    "# metaclassifierX_values contains the end counter values of the meta classifier associated to the decision tree 'X'\n",
    "# 4 end counter values are available in LSM6DSOX (the first 4 values in \"metaclasifierX_values\")\n",
    "# 8 end counter values are available in LSM6DSRX/ISM330DHCX (the 8 values in \"metaclasifierX_values\")\n",
    "# values allowed for end counters are from 0 to 14\n",
    "metaclassifier_values = [\n",
    "    \"2,2,2,0,0,0,0,0\",  # metaclassifier1_values\n",
    "    \"0,0,0,0,0,0,0,0\",  # metaclassifier2_values\n",
    "    \"0,0,0,0,0,0,0,0\",  # metaclassifier3_values\n",
    "    \"0,0,0,0,0,0,0,0\",  # metaclassifier4_values\n",
    "    \"0,0,0,0,0,0,0,0\",  # metaclassifier5_values\n",
    "    \"0,0,0,0,0,0,0,0\",  # metaclassifier6_values\n",
    "    \"0,0,0,0,0,0,0,0\",  # metaclassifier7_values\n",
    "    \"0,0,0,0,0,0,0,0\",  # metaclassifier8_values\n",
    "]\n",
    "\n",
    "ucf_generator(\n",
    "    device_name,\n",
    "    arff_filename,\n",
    "    dectree_filenames,\n",
    "    result_names,\n",
    "    result_values,\n",
    "    metaclassifier_values,\n",
    "    ucf_filename,\n",
    "    current_directory,\n",
    ")"
   ]
  },
  {
   "cell_type": "markdown",
   "metadata": {},
   "source": [
    "## (Optional) Generate header file from .ucf file\n",
    "\n",
    "This cell generates a .h header file after the .ucf file has been generated for use with the STMicroelectronics standard C drivers for MLC configuration without need for using GUI tools."
   ]
  },
  {
   "cell_type": "code",
   "execution_count": null,
   "metadata": {},
   "outputs": [],
   "source": [
    "h_generator(ucf_filename, h_filename)"
   ]
  },
  {
   "cell_type": "markdown",
   "metadata": {},
   "source": [
    "## (Optional) Testing decision tree\n",
    "This section allows to test the .arff file on the decision tree.\n",
    "The .arff file can be generated in Step2 after selecting data patterns (in Step1) and Features (in Step2). \n",
    "The module 'mlc_test.py' is used for this step."
   ]
  },
  {
   "cell_type": "code",
   "execution_count": null,
   "metadata": {},
   "outputs": [],
   "source": [
    "# Testing\n",
    "testresults_filename = os.path.join(current_directory, \"test_results.txt\")\n",
    "test_arff_on_decisiontree(\n",
    "    dectree_filenames[0],\n",
    "    arff_filename,\n",
    "    testresults_filename,\n",
    "    validate_results=True,\n",
    ")\n",
    "\n",
    "# show test results:\n",
    "with open(testresults_filename, \"r\") as f:\n",
    "    logging.info(f.read())"
   ]
  }
 ],
 "metadata": {
  "kernelspec": {
   "display_name": "mlc",
   "language": "python",
   "name": "python3"
  },
  "language_info": {
   "codemirror_mode": {
    "name": "ipython",
    "version": 3
   },
   "file_extension": ".py",
   "mimetype": "text/x-python",
   "name": "python",
   "nbconvert_exporter": "python",
   "pygments_lexer": "ipython3",
   "version": "3.12.7"
  }
 },
 "nbformat": 4,
 "nbformat_minor": 1
}
