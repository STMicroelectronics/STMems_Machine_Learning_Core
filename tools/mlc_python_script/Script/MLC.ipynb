{
 "cells": [
  {
   "cell_type": "markdown",
   "metadata": {},
   "source": [
    "# Script version 2.3.8 for Machine Learning Core (MLC)"
   ]
  },
  {
   "cell_type": "markdown",
   "metadata": {},
   "source": [
    "## General settings"
   ]
  },
  {
   "cell_type": "code",
   "execution_count": 1,
   "metadata": {},
   "outputs": [
    {
     "name": "stderr",
     "output_type": "stream",
     "text": [
      "2022-08-02 10:39:06,302 [INFO] Current directory: c:\\Users\\t-davidhou\\Documents\\github\\STMems_Machine_Learning_Core\\tools\\mlc_python_script\\Script\\2022-08-02_10-39-06\n",
      "2022-08-02 10:39:06,400 [INFO] app version: 9.12.0.0\n"
     ]
    }
   ],
   "source": [
    "import os, datetime\n",
    "current_directory = os.path.join(os.getcwd(), datetime.datetime.now().strftime('%Y-%m-%d_%H-%M-%S'))\n",
    "os.makedirs(current_directory)\n",
    "\n",
    "from mlc_script_log import *\n",
    "logger = Logger(current_directory, \"\")\n",
    "logging.info(\"Current directory: \" + current_directory)\n",
    "\n",
    "import external_tools\n",
    "\n",
    "arff_filename = os.path.join(current_directory, \"features.arff\")\n",
    "ucf_filename = os.path.join(current_directory, \"MLC_configuration.ucf\")\n",
    "h_filename = os.path.join(current_directory, \"MLC_configuration.h\")\n",
    "\n",
    "# private import:\n",
    "import mlc_configurator\n",
    "from mlc_configurator import *\n",
    "import decision_tree_generator\n",
    "from decision_tree_generator import generateDecisionTree\n",
    "from decision_tree_generator import generate_subset_of_ARFF\n",
    "import mlc_test\n",
    "from mlc_test import *\n",
    "    \n",
    "device_name = \"LSM6DSOX\"    ## list of supported devices available with mlc_configurator.get_devices()"
   ]
  },
  {
   "cell_type": "markdown",
   "metadata": {},
   "source": [
    "## Step 1: Load log files, label data, define decision tree results\n",
    "In this step data are loaded and results are assigned. \n",
    "Decision tree results can be configured by associating result names to result values."
   ]
  },
  {
   "cell_type": "code",
   "execution_count": 2,
   "metadata": {},
   "outputs": [
    {
     "name": "stderr",
     "output_type": "stream",
     "text": [
      "2022-08-02 10:39:27,354 [INFO] n_decision_trees = 1\n"
     ]
    },
    {
     "name": "stdout",
     "output_type": "stream",
     "text": [
      "available classes =  ['fastwalk', 'still', 'walk']\n",
      "fastwalk  --> data logs:  ['log3.txt']\n",
      "still  --> data logs:  ['log1.txt']\n",
      "walk  --> data logs:  ['log2.txt']\n",
      "All data logs:  ['../Logs/fastwalk/log3.txt', '../Logs/still/log1.txt', '../Logs/walk/log2.txt']\n"
     ]
    }
   ],
   "source": [
    "result_names  = [] # leave empty here\n",
    "result_values = [] # leave empty here\n",
    "datalog_results = [] # leave empty here\n",
    "\n",
    "# Load class names (folder names) from Logs folder\n",
    "class_names = os.listdir(\"../Logs/\")\n",
    "print (\"available classes = \", class_names)\n",
    "\n",
    "# For each class (folder), load all data (files in the folder)\n",
    "datalogs = []\n",
    "datalogs_split_by_class = []\n",
    "for class_name in class_names:\n",
    "    datalogs_i = os.listdir(\"../Logs/\" + class_name +\"/\")\n",
    "    print(class_name, \" --> data logs: \", datalogs_i)\n",
    "    datalogs_split_by_class.append(datalogs_i)\n",
    "    for datalog_i in datalogs_i:\n",
    "        datalogs.append(\"../Logs/\" + class_name + \"/\" + datalog_i)\n",
    "        datalog_results.append(class_name);\n",
    "print(\"All data logs: \", datalogs)\n",
    "\n",
    "# Assign results and values for decision tree 1:\n",
    "result_names.append(  class_names )\n",
    "result_values.append( list(range(0, len(class_names), 1)) )\n",
    "# Assign results and values for decision tree 2:\n",
    "result_names.append(  [] )\n",
    "result_values.append( [] )\n",
    "# Assign results and values for decision tree 3:\n",
    "result_names.append(  [] )\n",
    "result_values.append( [] )\n",
    "# Assign results and values for decision tree 4:\n",
    "result_names.append(  [] )\n",
    "result_values.append( [] )\n",
    "# Assign results and values for decision tree 5:\n",
    "result_names.append(  [] )\n",
    "result_values.append( [] )\n",
    "# Assign results and values for decision tree 6:\n",
    "result_names.append(  [] )\n",
    "result_values.append( [] )\n",
    "# Assign results and values for decision tree 7:\n",
    "result_names.append(  [] )\n",
    "result_values.append( [] )\n",
    "# Assign results and values for decision tree 8:\n",
    "result_names.append(  [] )\n",
    "result_values.append( [] )\n",
    "\n",
    "dectree_filenames = []\n",
    "for i in range(0,8): \n",
    "    if not result_names[i]:\n",
    "        break\n",
    "    else: \n",
    "        dectree_filenames.append(os.path.join(current_directory, \"dectree{}.txt\".format(i+1)))\n",
    "n_decision_trees = i\n",
    "logging.info('n_decision_trees = %d' % (n_decision_trees))"
   ]
  },
  {
   "cell_type": "markdown",
   "metadata": {},
   "source": [
    "## Step 2: Generate ARFF files\n",
    "ARFF files are CSV files where the first n lines declare data types of CSV columns.\n",
    "By editing lines below, we decide MLC configuration in terms of:\n",
    "* filters\n",
    "* features\n",
    "All the features are computed within a defined time window ('window_length').\n",
    "Other device settings like MLC data rate, sensor data rate and full scale are defined here.\n",
    "The module 'mlc_configurator.py' is used for this step."
   ]
  },
  {
   "cell_type": "code",
   "execution_count": 3,
   "metadata": {},
   "outputs": [
    {
     "name": "stderr",
     "output_type": "stream",
     "text": [
      "2022-08-02 10:39:27,449 [INFO] \n",
      "Calling MLC app for features computation and ARFF generation...\n",
      "2022-08-02 10:39:45,349 [INFO] \n",
      "ARFF generated successfully: c:\\Users\\t-davidhou\\Documents\\github\\STMems_Machine_Learning_Core\\tools\\mlc_python_script\\Script\\2022-08-02_10-39-06\\features.arff\n"
     ]
    }
   ],
   "source": [
    "# device settings\n",
    "mlc_odr = \"26 Hz\"                        ## list of allowed values available with mlc_configurator.get_mlc_odr(device_name)\n",
    "input_type = \"accelerometer+gyroscope\"   ## list of allowed values available with mlc_configurator.get_mlc_input_type(device_name)\n",
    "accelerometer_fs = \"2 g\"                 ## list of allowed values available with mlc_configurator.get_accelerometer_fs(device_name)\n",
    "accelerometer_odr = \"26 Hz\"              ## list of allowed values available with mlc_configurator.get_accelerometer_odr(device_name)\n",
    "gyroscope_fs = \"2000 dps\"                ## list of allowed values available with mlc_configurator.get_gyroscope_fs(device_name)\n",
    "gyroscope_odr = \"26 Hz\"                  ## list of allowed values available with mlc_configurator.get_gyroscope_odr(device_name)            \n",
    "window_length = 52                       ## Window length (supported values: from 1 to 255)\n",
    "\n",
    "# filters configuration\n",
    "# the list of available filters can be obtained with mlc_configurator.get_filter_names(input_type)\n",
    "filters_list = []   \n",
    "#filters_list.append(mlc_configurator.mlc_filter(\"filter_1\", \"HP_Acc_XYZ\"))\n",
    "#filters_list.append(mlc_configurator.mlc_filter(\"filter_2\", \"BP_Acc_V\", coef_a2=-0.5, coef_a3=0.5, coef_gain=1))\n",
    "#filters_list.append(mlc_configurator.mlc_filter(\"filter_3\", \"IIR1_Acc_V\", coef_b1=1, coef_b2=0.25, coef_a2=0.75))\n",
    "#filters_list.append(mlc_configurator.mlc_filter(\"filter_4\", \"IIR2_Acc_V\", coef_b1=0.59, coef_b2=1.19, coef_b3=0.59, coef_a2=-1.01, coef_a3=0.36))\n",
    "\n",
    "# features configuration\n",
    "# full list of available features can be obtained with mlc_configurator.get_feature_names()\n",
    "# full list of available inputs can be obtained with   mlc_configurator.get_mlc_inputs(device_name, input_type)\n",
    "features_list = []\n",
    "features_list.append(mlc_configurator.mlc_feature(\"MEAN\", \"Acc_V\"))\n",
    "features_list.append(mlc_configurator.mlc_feature(\"VARIANCE\", \"Acc_V\"))\n",
    "features_list.append(mlc_configurator.mlc_feature(\"ENERGY\", \"Acc_V\"))\n",
    "features_list.append(mlc_configurator.mlc_feature(\"PEAK_TO_PEAK\", \"Acc_V\"))\n",
    "features_list.append(mlc_configurator.mlc_feature(\"ZERO_CROSSING\", \"Acc_V\", 0.5))\n",
    "features_list.append(mlc_configurator.mlc_feature(\"POSITIVE_ZERO_CROSSING\", \"Acc_V\", 0.5))\n",
    "features_list.append(mlc_configurator.mlc_feature(\"NEGATIVE_ZERO_CROSSING\", \"Acc_V\", 0.5))\n",
    "features_list.append(mlc_configurator.mlc_feature(\"PEAK_DETECTOR\", \"Acc_V\", 0.5))\n",
    "features_list.append(mlc_configurator.mlc_feature(\"POSITIVE_PEAK_DETECTOR\", \"Acc_V\", 0.5))\n",
    "features_list.append(mlc_configurator.mlc_feature(\"NEGATIVE_PEAK_DETECTOR\", \"Acc_V\", 0.5))\n",
    "features_list.append(mlc_configurator.mlc_feature(\"MINIMUM\", \"Acc_V\"))\n",
    "features_list.append(mlc_configurator.mlc_feature(\"MAXIMUM\", \"Acc_V\"))\n",
    "features_list.append(mlc_configurator.mlc_feature(\"MEAN\", \"Gyr_V\"))\n",
    "features_list.append(mlc_configurator.mlc_feature(\"VARIANCE\", \"Gyr_V\"))\n",
    "features_list.append(mlc_configurator.mlc_feature(\"ENERGY\", \"Gyr_V\"))\n",
    "features_list.append(mlc_configurator.mlc_feature(\"PEAK_TO_PEAK\", \"Gyr_V\"))\n",
    "features_list.append(mlc_configurator.mlc_feature(\"ZERO_CROSSING\", \"Gyr_V\", 0.5))\n",
    "features_list.append(mlc_configurator.mlc_feature(\"POSITIVE_ZERO_CROSSING\", \"Gyr_V\", 0.5))\n",
    "features_list.append(mlc_configurator.mlc_feature(\"NEGATIVE_ZERO_CROSSING\", \"Gyr_V\", 0.5))\n",
    "features_list.append(mlc_configurator.mlc_feature(\"PEAK_DETECTOR\", \"Gyr_V\", 0.5))\n",
    "features_list.append(mlc_configurator.mlc_feature(\"POSITIVE_PEAK_DETECTOR\", \"Gyr_V\", 0.5))\n",
    "features_list.append(mlc_configurator.mlc_feature(\"NEGATIVE_PEAK_DETECTOR\", \"Gyr_V\", 0.5))\n",
    "features_list.append(mlc_configurator.mlc_feature(\"MINIMUM\", \"Gyr_V\"))\n",
    "features_list.append(mlc_configurator.mlc_feature(\"MAXIMUM\", \"Gyr_V\"))\n",
    "# Some examples of features on filtered inputs: \n",
    "#features_list.append(mlc_configurator.mlc_feature(\"MEAN\",\"Acc_X_filter_1\"))\n",
    "#features_list.append(mlc_configurator.mlc_feature(\"ENERGY\", \"Acc_V_filter_2\"))\n",
    "#features_list.append(mlc_configurator.mlc_feature(\"ZERO_CROSSING\", \"Acc_V_filter_3\", 0.5))\n",
    "\n",
    "mlc_configurator.arff_generator( device_name = device_name, \n",
    "               datalogs = datalogs, \n",
    "               results = datalog_results, \n",
    "               mlc_odr = mlc_odr, \n",
    "               input_type = input_type, \n",
    "               accelerometer_fs = accelerometer_fs, \n",
    "               accelerometer_odr = accelerometer_odr, \n",
    "               gyroscope_fs = gyroscope_fs, \n",
    "               gyroscope_odr = gyroscope_odr, \n",
    "               n_decision_trees = n_decision_trees, \n",
    "               window_length = window_length, \n",
    "               filters_list = filters_list,  \n",
    "               features_list = features_list, \n",
    "               arff_filename = arff_filename, \n",
    "               current_directory = current_directory)"
   ]
  },
  {
   "cell_type": "markdown",
   "metadata": {},
   "source": [
    "## Step 3: Decision Tree generation\n",
    "The module 'decision_tree_generator.py' is used to generate decision trees through sklearn. \n",
    "\n",
    "If you have generated the decision tree with external tools, you can skip this section and manually copy the decision tree files in the current directory using: \n",
    "* from shutil import copyfile\n",
    "* source_0 = \"PathToYourDecisionTreeFile\"\n",
    "* copyfile(source_0, dectree_filenames[0])"
   ]
  },
  {
   "cell_type": "code",
   "execution_count": 4,
   "metadata": {
    "scrolled": true
   },
   "outputs": [
    {
     "name": "stderr",
     "output_type": "stream",
     "text": [
      "2022-08-02 10:39:45,438 [INFO] Accuracy:1.0\n",
      "2022-08-02 10:39:45,439 [INFO] \n",
      "F11_MIN_on_ACC_V <= 0.578: fastwalk\n",
      "F11_MIN_on_ACC_V > 0.578\n",
      "|   F12_MAX_on_ACC_V <= 1.066: still\n",
      "|   F12_MAX_on_ACC_V > 1.066: walk\n",
      "\n",
      "Number of Leaves  : \t 3\n",
      "\n",
      "Size of the Tree : \t 5\n",
      "\n"
     ]
    }
   ],
   "source": [
    "if (n_decision_trees == 1):\n",
    "    dectree_accuracy, dectree_nodes = decision_tree_generator.generateDecisionTree(\n",
    "                                                        arff_filename = arff_filename, \n",
    "                                                        dectree_filename = dectree_filenames[0])\n",
    "else:\n",
    "    for i in range(n_decision_trees) :\n",
    "        arff_filename_i = arff_filename + str(i+1)\n",
    "        decision_tree_generator.generate_subset_of_ARFF( arff_filename = arff_filename, \n",
    "                                                         arff_subset_filename = arff_filename_i, \n",
    "                                                         classes_subset = result_names[i] )\n",
    "        logging.info(\"\\n# Decision Tree %d:\" %(i+1))\n",
    "        dectree_accuracy, dectree_nodes = decision_tree_generator.generateDecisionTree( \n",
    "                                               arff_filename = arff_filename_i, \n",
    "                                               dectree_filename = dectree_filenames[i] )\n"
   ]
  },
  {
   "cell_type": "markdown",
   "metadata": {},
   "source": [
    "## Step 4: Generation of .ucf file\n",
    "Settings and files from 'Step 2' and 'Step 3' are used in 'Step 4' to generate the MLC configuration in a .ucf file (a text file containing a sequence of register addresses and corresponding values). \n",
    "Meta classifiers, which are filters on the outputs of the decision trees, can be configured here. \n",
    "The module 'mlc_configurator.py' is used for this step."
   ]
  },
  {
   "cell_type": "code",
   "execution_count": 5,
   "metadata": {
    "scrolled": true
   },
   "outputs": [
    {
     "name": "stderr",
     "output_type": "stream",
     "text": [
      "2022-08-02 10:39:45,517 [INFO] Classes from ARFF: fastwalk, still, walk\n",
      "2022-08-02 10:39:45,526 [INFO] \n",
      "Calling MLC app for .ucf file generation...\n",
      "2022-08-02 10:40:06,868 [INFO] \n",
      ".ucf file generated successfully: c:\\Users\\t-davidhou\\Documents\\github\\STMems_Machine_Learning_Core\\tools\\mlc_python_script\\Script\\2022-08-02_10-39-06\\MLC_configuration.ucf\n"
     ]
    }
   ],
   "source": [
    "# Meta-classifiers\n",
    "# metaclassifierX_values contains the end counter values of the meta classifier associated to the decision tree 'X'\n",
    "# 4 end counter values are available in LSM6DSOX (the first 4 values in \"metaclasifierX_values\")\n",
    "# 8 end counter values are available in LSM6DSRX/ISM330DHCX (the 8 values in \"metaclasifierX_values\")\n",
    "# values allowed for end counters are from 0 to 14\n",
    "metaclassifier1_values = \"0,0,0,0,0,0,0,0\"\n",
    "metaclassifier2_values = \"0,0,0,0,0,0,0,0\"\n",
    "metaclassifier3_values = \"0,0,0,0,0,0,0,0\"\n",
    "metaclassifier4_values = \"0,0,0,0,0,0,0,0\"\n",
    "metaclassifier5_values = \"0,0,0,0,0,0,0,0\"\n",
    "metaclassifier6_values = \"0,0,0,0,0,0,0,0\"\n",
    "metaclassifier7_values = \"0,0,0,0,0,0,0,0\"\n",
    "metaclassifier8_values = \"0,0,0,0,0,0,0,0\"\n",
    "metaclassifier_values = [metaclassifier1_values, metaclassifier2_values, metaclassifier3_values, metaclassifier4_values, metaclassifier5_values, metaclassifier6_values, metaclassifier7_values, metaclassifier8_values]\n",
    "\n",
    "mlc_configurator.ucf_generator( device_name = device_name, \n",
    "                                arff_filename = arff_filename, \n",
    "                                dectree_filenames = dectree_filenames,\n",
    "                                result_names = result_names, \n",
    "                                result_values = result_values, \n",
    "                                metaclassifier_values = metaclassifier_values, \n",
    "                                ucf_filename = ucf_filename, \n",
    "                                current_directory = current_directory )"
   ]
  },
  {
   "cell_type": "markdown",
   "metadata": {},
   "source": [
    "## (Optional) Generate header file from .ucf file"
   ]
  },
  {
   "cell_type": "code",
   "execution_count": 6,
   "metadata": {},
   "outputs": [
    {
     "name": "stderr",
     "output_type": "stream",
     "text": [
      "2022-08-02 10:40:06,987 [INFO] Header file successfully generated. c:\\Users\\t-davidhou\\Documents\\github\\STMems_Machine_Learning_Core\\tools\\mlc_python_script\\Script\\2022-08-02_10-39-06\\MLC_configuration.ucf  ->  c:\\Users\\t-davidhou\\Documents\\github\\STMems_Machine_Learning_Core\\tools\\mlc_python_script\\Script\\2022-08-02_10-39-06\\MLC_configuration.h\n"
     ]
    }
   ],
   "source": [
    "mlc_configurator.h_generator( ucf_filename = ucf_filename, h_filename = h_filename)\n",
    "#mlc_configurator.h_generator( ucf_filename=\"ucftest.ucf\", h_filename=\"ucfthout.h\")"
   ]
  },
  {
   "cell_type": "markdown",
   "metadata": {},
   "source": [
    "## (Optional) Testing decision tree\n",
    "This section allows to test the .arff file on the decision tree.\n",
    "The .arff file can be generated in Step2 after selecting data patterns (in Step1) and Features (in Step2). \n",
    "The module 'mlc_test.py' is used for this step."
   ]
  },
  {
   "cell_type": "code",
   "execution_count": null,
   "metadata": {},
   "outputs": [],
   "source": [
    "# Testing\n",
    "testresults_filename = os.path.join(current_directory, \"test_results.txt\")\n",
    "mlc_test.test_arff_on_decisiontree( dectree_filename = dectree_filenames[0], \n",
    "                                    arff_filename = arff_filename, \n",
    "                                    testresults_filename = testresults_filename, \n",
    "                                    device_name = device_name )\n",
    "\n",
    "# show test results:\n",
    "file_o = open(testresults_filename)   \n",
    "content = file_o.read()                \n",
    "logging.info(content)                      \n",
    "file_o.close()"
   ]
  }
 ],
 "metadata": {
  "kernelspec": {
   "display_name": "Python 3.10.5 64-bit (windows store)",
   "language": "python",
   "name": "python3"
  },
  "language_info": {
   "codemirror_mode": {
    "name": "ipython",
    "version": 3
   },
   "file_extension": ".py",
   "mimetype": "text/x-python",
   "name": "python",
   "nbconvert_exporter": "python",
   "pygments_lexer": "ipython3",
   "version": "3.10.5"
  },
  "vscode": {
   "interpreter": {
    "hash": "31751ba59db5c716e82f2069fa6de2d63d703d6747f3517ddc9aa229677c60a7"
   }
  }
 },
 "nbformat": 4,
 "nbformat_minor": 1
}
