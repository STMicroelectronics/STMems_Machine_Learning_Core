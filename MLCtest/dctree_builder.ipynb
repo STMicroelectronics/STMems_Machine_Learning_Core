{
 "cells": [
  {
   "cell_type": "code",
   "execution_count": 11,
   "metadata": {},
   "outputs": [],
   "source": [
    "# Import dependencies\n",
    "import re \n",
    "import random\n",
    "import numpy as np\n",
    "import pandas as pd\n",
    "from scipy.io import arff\n",
    "from sklearn.model_selection import train_test_split\n",
    "from sklearn.tree import DecisionTreeClassifier, export_text\n",
    "\n",
    "SEED = 0\n",
    "random.seed(SEED)\n",
    "np.random.seed(SEED)\n",
    "\n",
    "# Load labels and features from ARFF\n",
    "arff_data = arff.loadarff(\"/Users/moonseopkim/Downloads/ST_MLC/STMems_Machine_Learning_Core/MLCtest/reference_ver/features.arff\")\n",
    "df = pd.DataFrame(arff_data[0])\n",
    "\n",
    "LABELS = sorted({lbl.decode() for lbl in df[\"class\"]})\n",
    "label_to_int = {lbl: idx for idx, lbl in enumerate(LABELS)}\n",
    "\n",
    "X = df.drop(\"class\", axis=1).values.astype(np.float32)\n",
    "y = np.array([LABELS.index(label.decode()) for label in df[\"class\"]])\n",
    "feature_names = list(df.drop(\"class\", axis=1).columns)\n",
    "\n",
    "# Split dataset into train set and test set\n",
    "X_train, X_test, y_train, y_test = train_test_split(X, y, stratify=y, test_size=0.3, random_state=SEED)\n",
    "\n",
    "# Train decision tree classifer\n",
    "clf = DecisionTreeClassifier(\n",
    "    max_depth=128,\n",
    "    criterion=\"entropy\",\n",
    "    min_impurity_decrease=1e-3,\n",
    "    ccp_alpha=1e-2,\n",
    "    class_weight=\"balanced\",\n",
    "    random_state=SEED,\n",
    ")\n",
    "clf.fit(X_train, y_train)\n",
    "\n",
    "# Define utility function for weka format conversion\n",
    "def convert_sklearn_to_weka(clf, feature_names):\n",
    "    dt = re.sub(r\"\\|--- \", r\"\", export_text(clf, feature_names=feature_names)).splitlines()\n",
    "    new_dt = []\n",
    "    line_idx = 1\n",
    "    while line_idx < len(dt):\n",
    "        match = re.search(r\"class: (\\d+)$\", dt[line_idx])\n",
    "        if match is not None:\n",
    "            label = LABELS[int(match.group(1))]\n",
    "            new_dt.append(f\"{dt[line_idx - 1]}: {label}\")\n",
    "            line_idx += 2\n",
    "        else:\n",
    "            new_dt.append(dt[line_idx - 1])\n",
    "            line_idx += 1\n",
    "    return \"\\n\".join(new_dt)\n",
    "\n",
    "# Export model to weka textual format\n",
    "dectree = convert_sklearn_to_weka(clf, feature_names)\n",
    "with open(\"dectree.txt\", \"w\") as f:\n",
    "    f.write(dectree)"
   ]
  },
  {
   "cell_type": "code",
   "execution_count": 7,
   "metadata": {},
   "outputs": [
    {
     "name": "stdout",
     "output_type": "stream",
     "text": [
      "Window 1: 13.10600 g²\n",
      "Window 2: 14.08967 g²\n",
      "Window 3: 13.18100 g²\n",
      "Window 4: 10.34776 g²\n",
      "Window 5: 11.53041 g²\n"
     ]
    }
   ],
   "source": [
    "import pandas as pd\n",
    "import numpy as np\n",
    "\n",
    "# 1) CSV 읽기\n",
    "df = pd.read_csv(\n",
    "    \"/Users/moonseopkim/Downloads/ST_MLC/STMems_Machine_Learning_Core/MLCtest/personalized_ver/high_personalized.csv\",\n",
    "    comment=\"#\", sep=\",\", engine=\"python\"\n",
    ")\n",
    "df.columns = df.columns.str.strip()\n",
    "\n",
    "x_g = df[\"acc_x[mg]\"] / 1000.0\n",
    "y_g = df[\"acc_y[mg]\"] / 1000.0\n",
    "z_g = df[\"acc_z[mg]\"] / 1000.0\n",
    "\n",
    "v2 = x_g**2 + y_g**2 + z_g**2\n",
    "\n",
    "WINDOW = 240\n",
    "\n",
    "p2p_v2 = [\n",
    "    v2[i:i+WINDOW].max() - v2[i:i+WINDOW].min()\n",
    "    for i in range(0, len(v2) - WINDOW + 1, WINDOW)\n",
    "]\n",
    "for idx, val in enumerate(p2p_v2, 1):\n",
    "    print(f\"Window {idx}: {val:.5f} g²\")\n"
   ]
  },
  {
   "cell_type": "code",
   "execution_count": null,
   "metadata": {},
   "outputs": [],
   "source": []
  }
 ],
 "metadata": {
  "kernelspec": {
   "display_name": "Python 3",
   "language": "python",
   "name": "python3"
  },
  "language_info": {
   "codemirror_mode": {
    "name": "ipython",
    "version": 3
   },
   "file_extension": ".py",
   "mimetype": "text/x-python",
   "name": "python",
   "nbconvert_exporter": "python",
   "pygments_lexer": "ipython3",
   "version": "3.9.6"
  }
 },
 "nbformat": 4,
 "nbformat_minor": 2
}
